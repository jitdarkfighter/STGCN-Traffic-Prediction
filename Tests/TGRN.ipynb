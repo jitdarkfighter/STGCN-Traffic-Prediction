{
 "cells": [
  {
   "cell_type": "code",
   "execution_count": 28,
   "id": "697360f7",
   "metadata": {},
   "outputs": [
    {
     "name": "stdout",
     "output_type": "stream",
     "text": [
      "Input shape: torch.Size([12, 4])\n",
      "Target shape: torch.Size([3, 4])\n",
      "Adjacency shape: torch.Size([3, 4])\n"
     ]
    }
   ],
   "source": [
    "import math\n",
    "import torch\n",
    "import torch.nn as nn\n",
    "import torch.nn.functional as F\n",
    "import numpy as np\n",
    "import pandas as pd\n",
    "import sys\n",
    "import os\n",
    "sys.path.append(os.path.join(os.path.dirname(os.getcwd()), 'src'))\n",
    "\n",
    "v_dataset = pd.read_csv(r\"../dataset/V_small_4.csv\")\n",
    "w_dataset = pd.read_csv(r\"../dataset/W_small_4.csv\")\n",
    "# Convert main traffic DataFrame to numpy: [time_steps, num_nodes]\n",
    "data_np = v_dataset.values\n",
    "\n",
    "# Define historical and prediction window lengths\n",
    "n_his, n_pred = 12, 3  # e.g., use past 12 steps to predict next 3\n",
    "\n",
    "from dataloader import STGCNDataset\n",
    "stgcn_dataset = STGCNDataset(data_np, n_his, n_pred)\n",
    "from torch.utils.data import DataLoader\n",
    "stgcn_loader = DataLoader(stgcn_dataset, batch_size=64, shuffle=True)\n",
    "\n",
    "# Load adjacency matrix (defines graph connectivity)\n",
    "w = w_dataset.values\n",
    "adj = torch.from_numpy(w).float()  # shape: [num_nodes, num_nodes\n",
    "\n",
    "# Inspect shapes\n",
    "x, y = stgcn_dataset[0]\n",
    "print(f\"Input shape: {x.shape}\")   # Expected: [n_his, num_nodes, 1]\n",
    "print(f\"Target shape: {y.shape}\")  # Expected: [n_pred, num_nodes, 1]\n",
    "print(f\"Adjacency shape: {adj.shape}\")  # Expected: [num_nodes, num_nodes]"
   ]
  },
  {
   "cell_type": "code",
   "execution_count": 21,
   "id": "f152c824",
   "metadata": {},
   "outputs": [],
   "source": [
    "class Temporal(nn.Module):\n",
    "    def __init__(self, in_channels, out_channels, kernel_size):\n",
    "        super(Temporal, self).__init__()\n",
    "        # kernel_size -> Size of 1D temporal kernel\n",
    "        self.conv1 = nn.Conv2d(in_channels, out_channels, kernel_size=(1, kernel_size))\n",
    "        self.conv2 = nn.Conv2d(in_channels, out_channels, kernel_size=(1, kernel_size))\n",
    "        self.conv3 = nn.Conv2d(in_channels, out_channels, kernel_size=(1, kernel_size))\n",
    "\n",
    "    def forward(self, x):\n",
    "        \n",
    "        # convert to NCHW\n",
    "        x = x.permute(0, 3, 2, 1)  # [batch_size, in_channels, num_nodes, n_his]\n",
    "\n",
    "        h = self.conv1(x) + torch.sigmoid(self.conv2(x))\n",
    "        h = F.relu(h)\n",
    "\n",
    "        # Recurrent connection\n",
    "        out = h + self.conv3(x)\n",
    "\n",
    "        # convert back to NHWC\n",
    "        out = out.permute(0, 3, 2, 1)  # [batch_size, n_his_out, num_nodes, out_channels]\n",
    "\n",
    "        return out\n"
   ]
  },
  {
   "cell_type": "code",
   "execution_count": 26,
   "id": "3630ddc1",
   "metadata": {},
   "outputs": [
    {
     "name": "stdout",
     "output_type": "stream",
     "text": [
      "Batch input shape: torch.Size([64, 12, 4])\n",
      "Batch target shape: torch.Size([64, 3, 4])\n",
      "Input to temporal layer: torch.Size([64, 12, 4, 1])\n",
      "Output from temporal layer: torch.Size([64, 10, 4, 64])\n",
      "✓ Temporal convolution works!\n"
     ]
    }
   ],
   "source": [
    "for batch_x, batch_y in stgcn_loader:\n",
    "    print(f\"Batch input shape: {batch_x.shape}\")\n",
    "    print(f\"Batch target shape: {batch_y.shape}\")\n",
    "    \n",
    "    # The dataloader should give us data in shape [batch_size, n_his, num_nodes, 1]\n",
    "    break\n",
    "\n",
    "# Create temporal conv layer\n",
    "# For STGCN, we typically expect:\n",
    "# - in_channels: number of features (1 for traffic flow)\n",
    "# - out_channels: number of output features\n",
    "# - kernel_size: temporal window size\n",
    "\n",
    "temporal_layer = Temporal(in_channels=1, out_channels=64, kernel_size=3)\n",
    "\n",
    "# Test with a small batch\n",
    "try:\n",
    "    # Ensure input has the right shape: [batch_size, n_his, num_nodes, in_channels]\n",
    "    if len(batch_x.shape) == 3:\n",
    "        batch_x = batch_x.unsqueeze(-1)\n",
    "    \n",
    "    print(f\"Input to temporal layer: {batch_x.shape}\")\n",
    "    output = temporal_layer(batch_x)\n",
    "    print(f\"Output from temporal layer: {output.shape}\")\n",
    "    print(\"✓ Temporal convolution works!\")\n",
    "    \n",
    "except Exception as e:\n",
    "    print(f\"✗ Error in temporal convolution: {e}\")\n",
    "    print(f\"Input shape was: {batch_x.shape}\")"
   ]
  }
 ],
 "metadata": {
  "kernelspec": {
   "display_name": ".venv",
   "language": "python",
   "name": "python3"
  },
  "language_info": {
   "codemirror_mode": {
    "name": "ipython",
    "version": 3
   },
   "file_extension": ".py",
   "mimetype": "text/x-python",
   "name": "python",
   "nbconvert_exporter": "python",
   "pygments_lexer": "ipython3",
   "version": "3.11.13"
  }
 },
 "nbformat": 4,
 "nbformat_minor": 5
}
